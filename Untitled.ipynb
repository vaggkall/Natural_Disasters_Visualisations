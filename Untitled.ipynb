{
 "cells": [
  {
   "cell_type": "code",
   "execution_count": 7,
   "id": "6ad4fd65-ac32-4d64-958c-e7363b8e43dc",
   "metadata": {},
   "outputs": [],
   "source": [
    "import pandas as pd\n",
    "import plotly.express as px\n",
    "import plotly.graph_objs as go\n",
    "\n",
    "# create a sample dataframe\n",
    "df = pd.DataFrame({\n",
    "    'Year': [2010, 2010, 2011, 2011, 2012, 2012],\n",
    "    'Continent': ['Asia', 'Europe', 'Asia', 'Europe', 'Asia', 'Europe'],\n",
    "    'Total Deaths': [100, 200, 150, 250, 300, 400],\n",
    "    'Total Affected': [1000, 2000, 1500, 2500, 3000, 4000]\n",
    "})"
   ]
  },
  {
   "cell_type": "code",
   "execution_count": 3,
   "id": "62498d5a-b305-48c3-9f46-71b3394790e8",
   "metadata": {},
   "outputs": [
    {
     "ename": "SyntaxError",
     "evalue": "positional argument follows keyword argument (1116786080.py, line 24)",
     "output_type": "error",
     "traceback": [
      "\u001b[1;36m  Input \u001b[1;32mIn [3]\u001b[1;36m\u001b[0m\n\u001b[1;33m    'args': [{'visible': [year==df['Year'].min() for year in years]}, {'showlegend': True}])\u001b[0m\n\u001b[1;37m          ^\u001b[0m\n\u001b[1;31mSyntaxError\u001b[0m\u001b[1;31m:\u001b[0m positional argument follows keyword argument\n"
     ]
    }
   ],
   "source": [
    "# create a scatter plot with the first year as default\n",
    "fig = px.scatter(df[df['Year']==df['Year'].min()], x='Total Deaths', y='Total Affected', color='Continent', hover_data=['Year'])\n",
    "\n",
    "# create a dropdown menu to select the year\n",
    "years = df['Year'].unique().tolist()\n",
    "dropdown = dict(label='Year', method='update', args=[{'x': [df[df['Year']==year]['Total Deaths'] for year in years],\n",
    "                                                      'y': [df[df['Year']==year]['Total Affected'] for year in years],\n",
    "                                                      'text': [df[df['Year']==year]['Continent'] for year in years],\n",
    "                                                      'mode': 'markers',\n",
    "                                                      'marker': {'color': [df[df['Year']==year]['Continent'].map({'Asia': 'blue', 'Europe': 'red'}) for year in years]},\n",
    "                                                      'hovertemplate': '<b>Continent</b>: %{text}<br><b>Total Deaths</b>: %{x}<br><b>Total Affected</b>: %{y}<br><b>Year</b>: {}'.format(year)}\n",
    "                                                 for year in years],\n",
    "                                                 'args': [{'visible': [year==df['Year'].min() for year in years]}, {'showlegend': True}])\n",
    "\n",
    "# add the dropdown menu to the plot\n",
    "fig.update_layout(updatemenus=[dropdown])\n",
    "\n",
    "# show the plot\n",
    "fig.show()"
   ]
  },
  {
   "cell_type": "code",
   "execution_count": 9,
   "id": "cc96c04e-c481-4b57-8a8f-86fb48cc29f7",
   "metadata": {},
   "outputs": [],
   "source": [
    "import pandas as pd\n",
    "\n",
    "df = pd.DataFrame({\n",
    "    'Country': ['United States', 'Canada', 'Mexico', 'Brazil', 'Argentina', 'Spain', 'France', 'Germany', 'Italy', 'China', 'Japan', 'Australia', 'New Zealand'],\n",
    "    'Continent': ['Americas', 'Americas', 'Americas', 'Americas', 'Americas', 'Europe', 'Europe', 'Europe', 'Europe', 'Asia', 'Asia', 'Oceania', 'Oceania'],\n",
    "    'Year': [2010, 2010, 2010, 2010, 2010, 2010, 2010, 2010, 2010, 2010, 2010, 2010, 2010],\n",
    "    'GDP per capita': [48558, 40887, 14890, 10252, 8747, 32776, 35330, 38844, 31938, 9759, 38870, 40739, 31297],\n",
    "    'Life expectancy': [78.7, 80.1, 76.4, 73.5, 75.2, 81.2, 81.7, 80.2, 82.2, 73.5, 82.6, 81.9, 80.7]\n",
    "})"
   ]
  },
  {
   "cell_type": "code",
   "execution_count": 13,
   "id": "cd7c7422-4399-4fc9-976f-5eb3fbfe20af",
   "metadata": {},
   "outputs": [
    {
     "data": {
      "application/vnd.plotly.v1+json": {
       "config": {
        "plotlyServerURL": "https://plot.ly"
       },
       "data": [
        {
         "marker": {
          "color": [
           "orange",
           "orange",
           "orange",
           "orange",
           "orange",
           "blue",
           "blue",
           "blue",
           "blue",
           "red",
           "red",
           "purple",
           "purple"
          ]
         },
         "mode": "markers",
         "text": "United States",
         "type": "scatter",
         "x": 48558,
         "y": 78.7
        }
       ],
       "layout": {
        "autosize": true,
        "showlegend": true,
        "sliders": [
         {
          "active": 12,
          "pad": {
           "t": 50
          },
          "steps": [
           {
            "args": [
             {
              "marker": {
               "color": [
                "orange",
                "orange",
                "orange",
                "orange",
                "orange",
                "blue",
                "blue",
                "blue",
                "blue",
                "red",
                "red",
                "purple",
                "purple"
               ]
              },
              "text": [
               "United States",
               "Canada",
               "Mexico",
               "Brazil",
               "Argentina",
               "Spain",
               "France",
               "Germany",
               "Italy",
               "China",
               "Japan",
               "Australia",
               "New Zealand"
              ],
              "x": [
               48558,
               40887,
               14890,
               10252,
               8747,
               32776,
               35330,
               38844,
               31938,
               9759,
               38870,
               40739,
               31297
              ],
              "y": [
               78.7,
               80.1,
               76.4,
               73.5,
               75.2,
               81.2,
               81.7,
               80.2,
               82.2,
               73.5,
               82.6,
               81.9,
               80.7
              ]
             },
             {
              "showlegend": true
             }
            ],
            "label": "2010",
            "method": "update"
           },
           {
            "args": [
             {
              "marker": {
               "color": [
                "orange",
                "orange",
                "orange",
                "orange",
                "orange",
                "blue",
                "blue",
                "blue",
                "blue",
                "red",
                "red",
                "purple",
                "purple"
               ]
              },
              "text": [
               "United States",
               "Canada",
               "Mexico",
               "Brazil",
               "Argentina",
               "Spain",
               "France",
               "Germany",
               "Italy",
               "China",
               "Japan",
               "Australia",
               "New Zealand"
              ],
              "x": [
               48558,
               40887,
               14890,
               10252,
               8747,
               32776,
               35330,
               38844,
               31938,
               9759,
               38870,
               40739,
               31297
              ],
              "y": [
               78.7,
               80.1,
               76.4,
               73.5,
               75.2,
               81.2,
               81.7,
               80.2,
               82.2,
               73.5,
               82.6,
               81.9,
               80.7
              ]
             },
             {
              "showlegend": true
             }
            ],
            "label": "2010",
            "method": "update"
           },
           {
            "args": [
             {
              "marker": {
               "color": [
                "orange",
                "orange",
                "orange",
                "orange",
                "orange",
                "blue",
                "blue",
                "blue",
                "blue",
                "red",
                "red",
                "purple",
                "purple"
               ]
              },
              "text": [
               "United States",
               "Canada",
               "Mexico",
               "Brazil",
               "Argentina",
               "Spain",
               "France",
               "Germany",
               "Italy",
               "China",
               "Japan",
               "Australia",
               "New Zealand"
              ],
              "x": [
               48558,
               40887,
               14890,
               10252,
               8747,
               32776,
               35330,
               38844,
               31938,
               9759,
               38870,
               40739,
               31297
              ],
              "y": [
               78.7,
               80.1,
               76.4,
               73.5,
               75.2,
               81.2,
               81.7,
               80.2,
               82.2,
               73.5,
               82.6,
               81.9,
               80.7
              ]
             },
             {
              "showlegend": true
             }
            ],
            "label": "2010",
            "method": "update"
           },
           {
            "args": [
             {
              "marker": {
               "color": [
                "orange",
                "orange",
                "orange",
                "orange",
                "orange",
                "blue",
                "blue",
                "blue",
                "blue",
                "red",
                "red",
                "purple",
                "purple"
               ]
              },
              "text": [
               "United States",
               "Canada",
               "Mexico",
               "Brazil",
               "Argentina",
               "Spain",
               "France",
               "Germany",
               "Italy",
               "China",
               "Japan",
               "Australia",
               "New Zealand"
              ],
              "x": [
               48558,
               40887,
               14890,
               10252,
               8747,
               32776,
               35330,
               38844,
               31938,
               9759,
               38870,
               40739,
               31297
              ],
              "y": [
               78.7,
               80.1,
               76.4,
               73.5,
               75.2,
               81.2,
               81.7,
               80.2,
               82.2,
               73.5,
               82.6,
               81.9,
               80.7
              ]
             },
             {
              "showlegend": true
             }
            ],
            "label": "2010",
            "method": "update"
           },
           {
            "args": [
             {
              "marker": {
               "color": [
                "orange",
                "orange",
                "orange",
                "orange",
                "orange",
                "blue",
                "blue",
                "blue",
                "blue",
                "red",
                "red",
                "purple",
                "purple"
               ]
              },
              "text": [
               "United States",
               "Canada",
               "Mexico",
               "Brazil",
               "Argentina",
               "Spain",
               "France",
               "Germany",
               "Italy",
               "China",
               "Japan",
               "Australia",
               "New Zealand"
              ],
              "x": [
               48558,
               40887,
               14890,
               10252,
               8747,
               32776,
               35330,
               38844,
               31938,
               9759,
               38870,
               40739,
               31297
              ],
              "y": [
               78.7,
               80.1,
               76.4,
               73.5,
               75.2,
               81.2,
               81.7,
               80.2,
               82.2,
               73.5,
               82.6,
               81.9,
               80.7
              ]
             },
             {
              "showlegend": true
             }
            ],
            "label": "2010",
            "method": "update"
           },
           {
            "args": [
             {
              "marker": {
               "color": [
                "orange",
                "orange",
                "orange",
                "orange",
                "orange",
                "blue",
                "blue",
                "blue",
                "blue",
                "red",
                "red",
                "purple",
                "purple"
               ]
              },
              "text": [
               "United States",
               "Canada",
               "Mexico",
               "Brazil",
               "Argentina",
               "Spain",
               "France",
               "Germany",
               "Italy",
               "China",
               "Japan",
               "Australia",
               "New Zealand"
              ],
              "x": [
               48558,
               40887,
               14890,
               10252,
               8747,
               32776,
               35330,
               38844,
               31938,
               9759,
               38870,
               40739,
               31297
              ],
              "y": [
               78.7,
               80.1,
               76.4,
               73.5,
               75.2,
               81.2,
               81.7,
               80.2,
               82.2,
               73.5,
               82.6,
               81.9,
               80.7
              ]
             },
             {
              "showlegend": true
             }
            ],
            "label": "2010",
            "method": "update"
           },
           {
            "args": [
             {
              "marker": {
               "color": [
                "orange",
                "orange",
                "orange",
                "orange",
                "orange",
                "blue",
                "blue",
                "blue",
                "blue",
                "red",
                "red",
                "purple",
                "purple"
               ]
              },
              "text": [
               "United States",
               "Canada",
               "Mexico",
               "Brazil",
               "Argentina",
               "Spain",
               "France",
               "Germany",
               "Italy",
               "China",
               "Japan",
               "Australia",
               "New Zealand"
              ],
              "x": [
               48558,
               40887,
               14890,
               10252,
               8747,
               32776,
               35330,
               38844,
               31938,
               9759,
               38870,
               40739,
               31297
              ],
              "y": [
               78.7,
               80.1,
               76.4,
               73.5,
               75.2,
               81.2,
               81.7,
               80.2,
               82.2,
               73.5,
               82.6,
               81.9,
               80.7
              ]
             },
             {
              "showlegend": true
             }
            ],
            "label": "2010",
            "method": "update"
           },
           {
            "args": [
             {
              "marker": {
               "color": [
                "orange",
                "orange",
                "orange",
                "orange",
                "orange",
                "blue",
                "blue",
                "blue",
                "blue",
                "red",
                "red",
                "purple",
                "purple"
               ]
              },
              "text": [
               "United States",
               "Canada",
               "Mexico",
               "Brazil",
               "Argentina",
               "Spain",
               "France",
               "Germany",
               "Italy",
               "China",
               "Japan",
               "Australia",
               "New Zealand"
              ],
              "x": [
               48558,
               40887,
               14890,
               10252,
               8747,
               32776,
               35330,
               38844,
               31938,
               9759,
               38870,
               40739,
               31297
              ],
              "y": [
               78.7,
               80.1,
               76.4,
               73.5,
               75.2,
               81.2,
               81.7,
               80.2,
               82.2,
               73.5,
               82.6,
               81.9,
               80.7
              ]
             },
             {
              "showlegend": true
             }
            ],
            "label": "2010",
            "method": "update"
           },
           {
            "args": [
             {
              "marker": {
               "color": [
                "orange",
                "orange",
                "orange",
                "orange",
                "orange",
                "blue",
                "blue",
                "blue",
                "blue",
                "red",
                "red",
                "purple",
                "purple"
               ]
              },
              "text": [
               "United States",
               "Canada",
               "Mexico",
               "Brazil",
               "Argentina",
               "Spain",
               "France",
               "Germany",
               "Italy",
               "China",
               "Japan",
               "Australia",
               "New Zealand"
              ],
              "x": [
               48558,
               40887,
               14890,
               10252,
               8747,
               32776,
               35330,
               38844,
               31938,
               9759,
               38870,
               40739,
               31297
              ],
              "y": [
               78.7,
               80.1,
               76.4,
               73.5,
               75.2,
               81.2,
               81.7,
               80.2,
               82.2,
               73.5,
               82.6,
               81.9,
               80.7
              ]
             },
             {
              "showlegend": true
             }
            ],
            "label": "2010",
            "method": "update"
           },
           {
            "args": [
             {
              "marker": {
               "color": [
                "orange",
                "orange",
                "orange",
                "orange",
                "orange",
                "blue",
                "blue",
                "blue",
                "blue",
                "red",
                "red",
                "purple",
                "purple"
               ]
              },
              "text": [
               "United States",
               "Canada",
               "Mexico",
               "Brazil",
               "Argentina",
               "Spain",
               "France",
               "Germany",
               "Italy",
               "China",
               "Japan",
               "Australia",
               "New Zealand"
              ],
              "x": [
               48558,
               40887,
               14890,
               10252,
               8747,
               32776,
               35330,
               38844,
               31938,
               9759,
               38870,
               40739,
               31297
              ],
              "y": [
               78.7,
               80.1,
               76.4,
               73.5,
               75.2,
               81.2,
               81.7,
               80.2,
               82.2,
               73.5,
               82.6,
               81.9,
               80.7
              ]
             },
             {
              "showlegend": true
             }
            ],
            "label": "2010",
            "method": "update"
           },
           {
            "args": [
             {
              "marker": {
               "color": [
                "orange",
                "orange",
                "orange",
                "orange",
                "orange",
                "blue",
                "blue",
                "blue",
                "blue",
                "red",
                "red",
                "purple",
                "purple"
               ]
              },
              "text": [
               "United States",
               "Canada",
               "Mexico",
               "Brazil",
               "Argentina",
               "Spain",
               "France",
               "Germany",
               "Italy",
               "China",
               "Japan",
               "Australia",
               "New Zealand"
              ],
              "x": [
               48558,
               40887,
               14890,
               10252,
               8747,
               32776,
               35330,
               38844,
               31938,
               9759,
               38870,
               40739,
               31297
              ],
              "y": [
               78.7,
               80.1,
               76.4,
               73.5,
               75.2,
               81.2,
               81.7,
               80.2,
               82.2,
               73.5,
               82.6,
               81.9,
               80.7
              ]
             },
             {
              "showlegend": true
             }
            ],
            "label": "2010",
            "method": "update"
           },
           {
            "args": [
             {
              "marker": {
               "color": [
                "orange",
                "orange",
                "orange",
                "orange",
                "orange",
                "blue",
                "blue",
                "blue",
                "blue",
                "red",
                "red",
                "purple",
                "purple"
               ]
              },
              "text": [
               "United States",
               "Canada",
               "Mexico",
               "Brazil",
               "Argentina",
               "Spain",
               "France",
               "Germany",
               "Italy",
               "China",
               "Japan",
               "Australia",
               "New Zealand"
              ],
              "x": [
               48558,
               40887,
               14890,
               10252,
               8747,
               32776,
               35330,
               38844,
               31938,
               9759,
               38870,
               40739,
               31297
              ],
              "y": [
               78.7,
               80.1,
               76.4,
               73.5,
               75.2,
               81.2,
               81.7,
               80.2,
               82.2,
               73.5,
               82.6,
               81.9,
               80.7
              ]
             },
             {
              "showlegend": true
             }
            ],
            "label": "2010",
            "method": "update"
           },
           {
            "args": [
             {
              "marker": {
               "color": [
                "orange",
                "orange",
                "orange",
                "orange",
                "orange",
                "blue",
                "blue",
                "blue",
                "blue",
                "red",
                "red",
                "purple",
                "purple"
               ]
              },
              "text": [
               "United States",
               "Canada",
               "Mexico",
               "Brazil",
               "Argentina",
               "Spain",
               "France",
               "Germany",
               "Italy",
               "China",
               "Japan",
               "Australia",
               "New Zealand"
              ],
              "x": [
               48558,
               40887,
               14890,
               10252,
               8747,
               32776,
               35330,
               38844,
               31938,
               9759,
               38870,
               40739,
               31297
              ],
              "y": [
               78.7,
               80.1,
               76.4,
               73.5,
               75.2,
               81.2,
               81.7,
               80.2,
               82.2,
               73.5,
               82.6,
               81.9,
               80.7
              ]
             },
             {
              "showlegend": true
             }
            ],
            "label": "2010",
            "method": "update"
           }
          ]
         }
        ],
        "template": {
         "data": {
          "bar": [
           {
            "error_x": {
             "color": "#2a3f5f"
            },
            "error_y": {
             "color": "#2a3f5f"
            },
            "marker": {
             "line": {
              "color": "#E5ECF6",
              "width": 0.5
             },
             "pattern": {
              "fillmode": "overlay",
              "size": 10,
              "solidity": 0.2
             }
            },
            "type": "bar"
           }
          ],
          "barpolar": [
           {
            "marker": {
             "line": {
              "color": "#E5ECF6",
              "width": 0.5
             },
             "pattern": {
              "fillmode": "overlay",
              "size": 10,
              "solidity": 0.2
             }
            },
            "type": "barpolar"
           }
          ],
          "carpet": [
           {
            "aaxis": {
             "endlinecolor": "#2a3f5f",
             "gridcolor": "white",
             "linecolor": "white",
             "minorgridcolor": "white",
             "startlinecolor": "#2a3f5f"
            },
            "baxis": {
             "endlinecolor": "#2a3f5f",
             "gridcolor": "white",
             "linecolor": "white",
             "minorgridcolor": "white",
             "startlinecolor": "#2a3f5f"
            },
            "type": "carpet"
           }
          ],
          "choropleth": [
           {
            "colorbar": {
             "outlinewidth": 0,
             "ticks": ""
            },
            "type": "choropleth"
           }
          ],
          "contour": [
           {
            "colorbar": {
             "outlinewidth": 0,
             "ticks": ""
            },
            "colorscale": [
             [
              0,
              "#0d0887"
             ],
             [
              0.1111111111111111,
              "#46039f"
             ],
             [
              0.2222222222222222,
              "#7201a8"
             ],
             [
              0.3333333333333333,
              "#9c179e"
             ],
             [
              0.4444444444444444,
              "#bd3786"
             ],
             [
              0.5555555555555556,
              "#d8576b"
             ],
             [
              0.6666666666666666,
              "#ed7953"
             ],
             [
              0.7777777777777778,
              "#fb9f3a"
             ],
             [
              0.8888888888888888,
              "#fdca26"
             ],
             [
              1,
              "#f0f921"
             ]
            ],
            "type": "contour"
           }
          ],
          "contourcarpet": [
           {
            "colorbar": {
             "outlinewidth": 0,
             "ticks": ""
            },
            "type": "contourcarpet"
           }
          ],
          "heatmap": [
           {
            "colorbar": {
             "outlinewidth": 0,
             "ticks": ""
            },
            "colorscale": [
             [
              0,
              "#0d0887"
             ],
             [
              0.1111111111111111,
              "#46039f"
             ],
             [
              0.2222222222222222,
              "#7201a8"
             ],
             [
              0.3333333333333333,
              "#9c179e"
             ],
             [
              0.4444444444444444,
              "#bd3786"
             ],
             [
              0.5555555555555556,
              "#d8576b"
             ],
             [
              0.6666666666666666,
              "#ed7953"
             ],
             [
              0.7777777777777778,
              "#fb9f3a"
             ],
             [
              0.8888888888888888,
              "#fdca26"
             ],
             [
              1,
              "#f0f921"
             ]
            ],
            "type": "heatmap"
           }
          ],
          "heatmapgl": [
           {
            "colorbar": {
             "outlinewidth": 0,
             "ticks": ""
            },
            "colorscale": [
             [
              0,
              "#0d0887"
             ],
             [
              0.1111111111111111,
              "#46039f"
             ],
             [
              0.2222222222222222,
              "#7201a8"
             ],
             [
              0.3333333333333333,
              "#9c179e"
             ],
             [
              0.4444444444444444,
              "#bd3786"
             ],
             [
              0.5555555555555556,
              "#d8576b"
             ],
             [
              0.6666666666666666,
              "#ed7953"
             ],
             [
              0.7777777777777778,
              "#fb9f3a"
             ],
             [
              0.8888888888888888,
              "#fdca26"
             ],
             [
              1,
              "#f0f921"
             ]
            ],
            "type": "heatmapgl"
           }
          ],
          "histogram": [
           {
            "marker": {
             "pattern": {
              "fillmode": "overlay",
              "size": 10,
              "solidity": 0.2
             }
            },
            "type": "histogram"
           }
          ],
          "histogram2d": [
           {
            "colorbar": {
             "outlinewidth": 0,
             "ticks": ""
            },
            "colorscale": [
             [
              0,
              "#0d0887"
             ],
             [
              0.1111111111111111,
              "#46039f"
             ],
             [
              0.2222222222222222,
              "#7201a8"
             ],
             [
              0.3333333333333333,
              "#9c179e"
             ],
             [
              0.4444444444444444,
              "#bd3786"
             ],
             [
              0.5555555555555556,
              "#d8576b"
             ],
             [
              0.6666666666666666,
              "#ed7953"
             ],
             [
              0.7777777777777778,
              "#fb9f3a"
             ],
             [
              0.8888888888888888,
              "#fdca26"
             ],
             [
              1,
              "#f0f921"
             ]
            ],
            "type": "histogram2d"
           }
          ],
          "histogram2dcontour": [
           {
            "colorbar": {
             "outlinewidth": 0,
             "ticks": ""
            },
            "colorscale": [
             [
              0,
              "#0d0887"
             ],
             [
              0.1111111111111111,
              "#46039f"
             ],
             [
              0.2222222222222222,
              "#7201a8"
             ],
             [
              0.3333333333333333,
              "#9c179e"
             ],
             [
              0.4444444444444444,
              "#bd3786"
             ],
             [
              0.5555555555555556,
              "#d8576b"
             ],
             [
              0.6666666666666666,
              "#ed7953"
             ],
             [
              0.7777777777777778,
              "#fb9f3a"
             ],
             [
              0.8888888888888888,
              "#fdca26"
             ],
             [
              1,
              "#f0f921"
             ]
            ],
            "type": "histogram2dcontour"
           }
          ],
          "mesh3d": [
           {
            "colorbar": {
             "outlinewidth": 0,
             "ticks": ""
            },
            "type": "mesh3d"
           }
          ],
          "parcoords": [
           {
            "line": {
             "colorbar": {
              "outlinewidth": 0,
              "ticks": ""
             }
            },
            "type": "parcoords"
           }
          ],
          "pie": [
           {
            "automargin": true,
            "type": "pie"
           }
          ],
          "scatter": [
           {
            "marker": {
             "colorbar": {
              "outlinewidth": 0,
              "ticks": ""
             }
            },
            "type": "scatter"
           }
          ],
          "scatter3d": [
           {
            "line": {
             "colorbar": {
              "outlinewidth": 0,
              "ticks": ""
             }
            },
            "marker": {
             "colorbar": {
              "outlinewidth": 0,
              "ticks": ""
             }
            },
            "type": "scatter3d"
           }
          ],
          "scattercarpet": [
           {
            "marker": {
             "colorbar": {
              "outlinewidth": 0,
              "ticks": ""
             }
            },
            "type": "scattercarpet"
           }
          ],
          "scattergeo": [
           {
            "marker": {
             "colorbar": {
              "outlinewidth": 0,
              "ticks": ""
             }
            },
            "type": "scattergeo"
           }
          ],
          "scattergl": [
           {
            "marker": {
             "colorbar": {
              "outlinewidth": 0,
              "ticks": ""
             }
            },
            "type": "scattergl"
           }
          ],
          "scattermapbox": [
           {
            "marker": {
             "colorbar": {
              "outlinewidth": 0,
              "ticks": ""
             }
            },
            "type": "scattermapbox"
           }
          ],
          "scatterpolar": [
           {
            "marker": {
             "colorbar": {
              "outlinewidth": 0,
              "ticks": ""
             }
            },
            "type": "scatterpolar"
           }
          ],
          "scatterpolargl": [
           {
            "marker": {
             "colorbar": {
              "outlinewidth": 0,
              "ticks": ""
             }
            },
            "type": "scatterpolargl"
           }
          ],
          "scatterternary": [
           {
            "marker": {
             "colorbar": {
              "outlinewidth": 0,
              "ticks": ""
             }
            },
            "type": "scatterternary"
           }
          ],
          "surface": [
           {
            "colorbar": {
             "outlinewidth": 0,
             "ticks": ""
            },
            "colorscale": [
             [
              0,
              "#0d0887"
             ],
             [
              0.1111111111111111,
              "#46039f"
             ],
             [
              0.2222222222222222,
              "#7201a8"
             ],
             [
              0.3333333333333333,
              "#9c179e"
             ],
             [
              0.4444444444444444,
              "#bd3786"
             ],
             [
              0.5555555555555556,
              "#d8576b"
             ],
             [
              0.6666666666666666,
              "#ed7953"
             ],
             [
              0.7777777777777778,
              "#fb9f3a"
             ],
             [
              0.8888888888888888,
              "#fdca26"
             ],
             [
              1,
              "#f0f921"
             ]
            ],
            "type": "surface"
           }
          ],
          "table": [
           {
            "cells": {
             "fill": {
              "color": "#EBF0F8"
             },
             "line": {
              "color": "white"
             }
            },
            "header": {
             "fill": {
              "color": "#C8D4E3"
             },
             "line": {
              "color": "white"
             }
            },
            "type": "table"
           }
          ]
         },
         "layout": {
          "annotationdefaults": {
           "arrowcolor": "#2a3f5f",
           "arrowhead": 0,
           "arrowwidth": 1
          },
          "autotypenumbers": "strict",
          "coloraxis": {
           "colorbar": {
            "outlinewidth": 0,
            "ticks": ""
           }
          },
          "colorscale": {
           "diverging": [
            [
             0,
             "#8e0152"
            ],
            [
             0.1,
             "#c51b7d"
            ],
            [
             0.2,
             "#de77ae"
            ],
            [
             0.3,
             "#f1b6da"
            ],
            [
             0.4,
             "#fde0ef"
            ],
            [
             0.5,
             "#f7f7f7"
            ],
            [
             0.6,
             "#e6f5d0"
            ],
            [
             0.7,
             "#b8e186"
            ],
            [
             0.8,
             "#7fbc41"
            ],
            [
             0.9,
             "#4d9221"
            ],
            [
             1,
             "#276419"
            ]
           ],
           "sequential": [
            [
             0,
             "#0d0887"
            ],
            [
             0.1111111111111111,
             "#46039f"
            ],
            [
             0.2222222222222222,
             "#7201a8"
            ],
            [
             0.3333333333333333,
             "#9c179e"
            ],
            [
             0.4444444444444444,
             "#bd3786"
            ],
            [
             0.5555555555555556,
             "#d8576b"
            ],
            [
             0.6666666666666666,
             "#ed7953"
            ],
            [
             0.7777777777777778,
             "#fb9f3a"
            ],
            [
             0.8888888888888888,
             "#fdca26"
            ],
            [
             1,
             "#f0f921"
            ]
           ],
           "sequentialminus": [
            [
             0,
             "#0d0887"
            ],
            [
             0.1111111111111111,
             "#46039f"
            ],
            [
             0.2222222222222222,
             "#7201a8"
            ],
            [
             0.3333333333333333,
             "#9c179e"
            ],
            [
             0.4444444444444444,
             "#bd3786"
            ],
            [
             0.5555555555555556,
             "#d8576b"
            ],
            [
             0.6666666666666666,
             "#ed7953"
            ],
            [
             0.7777777777777778,
             "#fb9f3a"
            ],
            [
             0.8888888888888888,
             "#fdca26"
            ],
            [
             1,
             "#f0f921"
            ]
           ]
          },
          "colorway": [
           "#636efa",
           "#EF553B",
           "#00cc96",
           "#ab63fa",
           "#FFA15A",
           "#19d3f3",
           "#FF6692",
           "#B6E880",
           "#FF97FF",
           "#FECB52"
          ],
          "font": {
           "color": "#2a3f5f"
          },
          "geo": {
           "bgcolor": "white",
           "lakecolor": "white",
           "landcolor": "#E5ECF6",
           "showlakes": true,
           "showland": true,
           "subunitcolor": "white"
          },
          "hoverlabel": {
           "align": "left"
          },
          "hovermode": "closest",
          "mapbox": {
           "style": "light"
          },
          "paper_bgcolor": "white",
          "plot_bgcolor": "#E5ECF6",
          "polar": {
           "angularaxis": {
            "gridcolor": "white",
            "linecolor": "white",
            "ticks": ""
           },
           "bgcolor": "#E5ECF6",
           "radialaxis": {
            "gridcolor": "white",
            "linecolor": "white",
            "ticks": ""
           }
          },
          "scene": {
           "xaxis": {
            "backgroundcolor": "#E5ECF6",
            "gridcolor": "white",
            "gridwidth": 2,
            "linecolor": "white",
            "showbackground": true,
            "ticks": "",
            "zerolinecolor": "white"
           },
           "yaxis": {
            "backgroundcolor": "#E5ECF6",
            "gridcolor": "white",
            "gridwidth": 2,
            "linecolor": "white",
            "showbackground": true,
            "ticks": "",
            "zerolinecolor": "white"
           },
           "zaxis": {
            "backgroundcolor": "#E5ECF6",
            "gridcolor": "white",
            "gridwidth": 2,
            "linecolor": "white",
            "showbackground": true,
            "ticks": "",
            "zerolinecolor": "white"
           }
          },
          "shapedefaults": {
           "line": {
            "color": "#2a3f5f"
           }
          },
          "ternary": {
           "aaxis": {
            "gridcolor": "white",
            "linecolor": "white",
            "ticks": ""
           },
           "baxis": {
            "gridcolor": "white",
            "linecolor": "white",
            "ticks": ""
           },
           "bgcolor": "#E5ECF6",
           "caxis": {
            "gridcolor": "white",
            "linecolor": "white",
            "ticks": ""
           }
          },
          "title": {
           "x": 0.05
          },
          "xaxis": {
           "automargin": true,
           "gridcolor": "white",
           "linecolor": "white",
           "ticks": "",
           "title": {
            "standoff": 15
           },
           "zerolinecolor": "white",
           "zerolinewidth": 2
          },
          "yaxis": {
           "automargin": true,
           "gridcolor": "white",
           "linecolor": "white",
           "ticks": "",
           "title": {
            "standoff": 15
           },
           "zerolinecolor": "white",
           "zerolinewidth": 2
          }
         }
        },
        "title": {
         "text": "Life Expectancy vs. GDP per Capita"
        },
        "xaxis": {
         "autorange": false,
         "range": [
          -60862.9121321094,
          118167.9121321094
         ],
         "title": {
          "text": "GDP per Capita"
         }
        },
        "yaxis": {
         "autorange": false,
         "range": [
          55.32254707631317,
          100.77745292368684
         ],
         "title": {
          "text": "Life Expectancy"
         }
        }
       }
      },
      "image/png": "[encoded data removed]",
      "text/html": [
       "<div>                            <div id=\"e7a6b319-1bf9-4b1d-981a-f322aaba79f9\" class=\"plotly-graph-div\" style=\"height:525px; width:100%;\"></div>            <script type=\"text/javascript\">                require([\"plotly\"], function(Plotly) {                    window.PLOTLYENV=window.PLOTLYENV || {};                                    if (document.getElementById(\"e7a6b319-1bf9-4b1d-981a-f322aaba79f9\")) {                    Plotly.newPlot(                        \"e7a6b319-1bf9-4b1d-981a-f322aaba79f9\",                        [{\"marker\":{\"color\":[\"orange\",\"orange\",\"orange\",\"orange\",\"orange\",\"blue\",\"blue\",\"blue\",\"blue\",\"red\",\"red\",\"purple\",\"purple\"],\"size\":10},\"mode\":\"markers\",\"text\":[\"United States\",\"Canada\",\"Mexico\",\"Brazil\",\"Argentina\",\"Spain\",\"France\",\"Germany\",\"Italy\",\"China\",\"Japan\",\"Australia\",\"New Zealand\"],\"x\":[48558,40887,14890,10252,8747,32776,35330,38844,31938,9759,38870,40739,31297],\"y\":[78.7,80.1,76.4,73.5,75.2,81.2,81.7,80.2,82.2,73.5,82.6,81.9,80.7],\"type\":\"scatter\"}],                        {\"sliders\":[{\"active\":0,\"pad\":{\"t\":50},\"steps\":[{\"args\":[{\"x\":[48558,40887,14890,10252,8747,32776,35330,38844,31938,9759,38870,40739,31297],\"y\":[78.7,80.1,76.4,73.5,75.2,81.2,81.7,80.2,82.2,73.5,82.6,81.9,80.7],\"text\":[\"United States\",\"Canada\",\"Mexico\",\"Brazil\",\"Argentina\",\"Spain\",\"France\",\"Germany\",\"Italy\",\"China\",\"Japan\",\"Australia\",\"New Zealand\"],\"marker\":{\"color\":[\"orange\",\"orange\",\"orange\",\"orange\",\"orange\",\"blue\",\"blue\",\"blue\",\"blue\",\"red\",\"red\",\"purple\",\"purple\"]}},{\"showlegend\":true}],\"label\":\"2010\",\"method\":\"update\"},{\"args\":[{\"x\":[48558,40887,14890,10252,8747,32776,35330,38844,31938,9759,38870,40739,31297],\"y\":[78.7,80.1,76.4,73.5,75.2,81.2,81.7,80.2,82.2,73.5,82.6,81.9,80.7],\"text\":[\"United States\",\"Canada\",\"Mexico\",\"Brazil\",\"Argentina\",\"Spain\",\"France\",\"Germany\",\"Italy\",\"China\",\"Japan\",\"Australia\",\"New Zealand\"],\"marker\":{\"color\":[\"orange\",\"orange\",\"orange\",\"orange\",\"orange\",\"blue\",\"blue\",\"blue\",\"blue\",\"red\",\"red\",\"purple\",\"purple\"]}},{\"showlegend\":true}],\"label\":\"2010\",\"method\":\"update\"},{\"args\":[{\"x\":[48558,40887,14890,10252,8747,32776,35330,38844,31938,9759,38870,40739,31297],\"y\":[78.7,80.1,76.4,73.5,75.2,81.2,81.7,80.2,82.2,73.5,82.6,81.9,80.7],\"text\":[\"United States\",\"Canada\",\"Mexico\",\"Brazil\",\"Argentina\",\"Spain\",\"France\",\"Germany\",\"Italy\",\"China\",\"Japan\",\"Australia\",\"New Zealand\"],\"marker\":{\"color\":[\"orange\",\"orange\",\"orange\",\"orange\",\"orange\",\"blue\",\"blue\",\"blue\",\"blue\",\"red\",\"red\",\"purple\",\"purple\"]}},{\"showlegend\":true}],\"label\":\"2010\",\"method\":\"update\"},{\"args\":[{\"x\":[48558,40887,14890,10252,8747,32776,35330,38844,31938,9759,38870,40739,31297],\"y\":[78.7,80.1,76.4,73.5,75.2,81.2,81.7,80.2,82.2,73.5,82.6,81.9,80.7],\"text\":[\"United States\",\"Canada\",\"Mexico\",\"Brazil\",\"Argentina\",\"Spain\",\"France\",\"Germany\",\"Italy\",\"China\",\"Japan\",\"Australia\",\"New Zealand\"],\"marker\":{\"color\":[\"orange\",\"orange\",\"orange\",\"orange\",\"orange\",\"blue\",\"blue\",\"blue\",\"blue\",\"red\",\"red\",\"purple\",\"purple\"]}},{\"showlegend\":true}],\"label\":\"2010\",\"method\":\"update\"},{\"args\":[{\"x\":[48558,40887,14890,10252,8747,32776,35330,38844,31938,9759,38870,40739,31297],\"y\":[78.7,80.1,76.4,73.5,75.2,81.2,81.7,80.2,82.2,73.5,82.6,81.9,80.7],\"text\":[\"United States\",\"Canada\",\"Mexico\",\"Brazil\",\"Argentina\",\"Spain\",\"France\",\"Germany\",\"Italy\",\"China\",\"Japan\",\"Australia\",\"New Zealand\"],\"marker\":{\"color\":[\"orange\",\"orange\",\"orange\",\"orange\",\"orange\",\"blue\",\"blue\",\"blue\",\"blue\",\"red\",\"red\",\"purple\",\"purple\"]}},{\"showlegend\":true}],\"label\":\"2010\",\"method\":\"update\"},{\"args\":[{\"x\":[48558,40887,14890,10252,8747,32776,35330,38844,31938,9759,38870,40739,31297],\"y\":[78.7,80.1,76.4,73.5,75.2,81.2,81.7,80.2,82.2,73.5,82.6,81.9,80.7],\"text\":[\"United States\",\"Canada\",\"Mexico\",\"Brazil\",\"Argentina\",\"Spain\",\"France\",\"Germany\",\"Italy\",\"China\",\"Japan\",\"Australia\",\"New Zealand\"],\"marker\":{\"color\":[\"orange\",\"orange\",\"orange\",\"orange\",\"orange\",\"blue\",\"blue\",\"blue\",\"blue\",\"red\",\"red\",\"purple\",\"purple\"]}},{\"showlegend\":true}],\"label\":\"2010\",\"method\":\"update\"},{\"args\":[{\"x\":[48558,40887,14890,10252,8747,32776,35330,38844,31938,9759,38870,40739,31297],\"y\":[78.7,80.1,76.4,73.5,75.2,81.2,81.7,80.2,82.2,73.5,82.6,81.9,80.7],\"text\":[\"United States\",\"Canada\",\"Mexico\",\"Brazil\",\"Argentina\",\"Spain\",\"France\",\"Germany\",\"Italy\",\"China\",\"Japan\",\"Australia\",\"New Zealand\"],\"marker\":{\"color\":[\"orange\",\"orange\",\"orange\",\"orange\",\"orange\",\"blue\",\"blue\",\"blue\",\"blue\",\"red\",\"red\",\"purple\",\"purple\"]}},{\"showlegend\":true}],\"label\":\"2010\",\"method\":\"update\"},{\"args\":[{\"x\":[48558,40887,14890,10252,8747,32776,35330,38844,31938,9759,38870,40739,31297],\"y\":[78.7,80.1,76.4,73.5,75.2,81.2,81.7,80.2,82.2,73.5,82.6,81.9,80.7],\"text\":[\"United States\",\"Canada\",\"Mexico\",\"Brazil\",\"Argentina\",\"Spain\",\"France\",\"Germany\",\"Italy\",\"China\",\"Japan\",\"Australia\",\"New Zealand\"],\"marker\":{\"color\":[\"orange\",\"orange\",\"orange\",\"orange\",\"orange\",\"blue\",\"blue\",\"blue\",\"blue\",\"red\",\"red\",\"purple\",\"purple\"]}},{\"showlegend\":true}],\"label\":\"2010\",\"method\":\"update\"},{\"args\":[{\"x\":[48558,40887,14890,10252,8747,32776,35330,38844,31938,9759,38870,40739,31297],\"y\":[78.7,80.1,76.4,73.5,75.2,81.2,81.7,80.2,82.2,73.5,82.6,81.9,80.7],\"text\":[\"United States\",\"Canada\",\"Mexico\",\"Brazil\",\"Argentina\",\"Spain\",\"France\",\"Germany\",\"Italy\",\"China\",\"Japan\",\"Australia\",\"New Zealand\"],\"marker\":{\"color\":[\"orange\",\"orange\",\"orange\",\"orange\",\"orange\",\"blue\",\"blue\",\"blue\",\"blue\",\"red\",\"red\",\"purple\",\"purple\"]}},{\"showlegend\":true}],\"label\":\"2010\",\"method\":\"update\"},{\"args\":[{\"x\":[48558,40887,14890,10252,8747,32776,35330,38844,31938,9759,38870,40739,31297],\"y\":[78.7,80.1,76.4,73.5,75.2,81.2,81.7,80.2,82.2,73.5,82.6,81.9,80.7],\"text\":[\"United States\",\"Canada\",\"Mexico\",\"Brazil\",\"Argentina\",\"Spain\",\"France\",\"Germany\",\"Italy\",\"China\",\"Japan\",\"Australia\",\"New Zealand\"],\"marker\":{\"color\":[\"orange\",\"orange\",\"orange\",\"orange\",\"orange\",\"blue\",\"blue\",\"blue\",\"blue\",\"red\",\"red\",\"purple\",\"purple\"]}},{\"showlegend\":true}],\"label\":\"2010\",\"method\":\"update\"},{\"args\":[{\"x\":[48558,40887,14890,10252,8747,32776,35330,38844,31938,9759,38870,40739,31297],\"y\":[78.7,80.1,76.4,73.5,75.2,81.2,81.7,80.2,82.2,73.5,82.6,81.9,80.7],\"text\":[\"United States\",\"Canada\",\"Mexico\",\"Brazil\",\"Argentina\",\"Spain\",\"France\",\"Germany\",\"Italy\",\"China\",\"Japan\",\"Australia\",\"New Zealand\"],\"marker\":{\"color\":[\"orange\",\"orange\",\"orange\",\"orange\",\"orange\",\"blue\",\"blue\",\"blue\",\"blue\",\"red\",\"red\",\"purple\",\"purple\"]}},{\"showlegend\":true}],\"label\":\"2010\",\"method\":\"update\"},{\"args\":[{\"x\":[48558,40887,14890,10252,8747,32776,35330,38844,31938,9759,38870,40739,31297],\"y\":[78.7,80.1,76.4,73.5,75.2,81.2,81.7,80.2,82.2,73.5,82.6,81.9,80.7],\"text\":[\"United States\",\"Canada\",\"Mexico\",\"Brazil\",\"Argentina\",\"Spain\",\"France\",\"Germany\",\"Italy\",\"China\",\"Japan\",\"Australia\",\"New Zealand\"],\"marker\":{\"color\":[\"orange\",\"orange\",\"orange\",\"orange\",\"orange\",\"blue\",\"blue\",\"blue\",\"blue\",\"red\",\"red\",\"purple\",\"purple\"]}},{\"showlegend\":true}],\"label\":\"2010\",\"method\":\"update\"},{\"args\":[{\"x\":[48558,40887,14890,10252,8747,32776,35330,38844,31938,9759,38870,40739,31297],\"y\":[78.7,80.1,76.4,73.5,75.2,81.2,81.7,80.2,82.2,73.5,82.6,81.9,80.7],\"text\":[\"United States\",\"Canada\",\"Mexico\",\"Brazil\",\"Argentina\",\"Spain\",\"France\",\"Germany\",\"Italy\",\"China\",\"Japan\",\"Australia\",\"New Zealand\"],\"marker\":{\"color\":[\"orange\",\"orange\",\"orange\",\"orange\",\"orange\",\"blue\",\"blue\",\"blue\",\"blue\",\"red\",\"red\",\"purple\",\"purple\"]}},{\"showlegend\":true}],\"label\":\"2010\",\"method\":\"update\"}]}],\"title\":{\"text\":\"Life Expectancy vs. GDP per Capita\"},\"xaxis\":{\"title\":{\"text\":\"GDP per Capita\"}},\"yaxis\":{\"title\":{\"text\":\"Life Expectancy\"}},\"template\":{\"data\":{\"bar\":[{\"error_x\":{\"color\":\"#2a3f5f\"},\"error_y\":{\"color\":\"#2a3f5f\"},\"marker\":{\"line\":{\"color\":\"#E5ECF6\",\"width\":0.5},\"pattern\":{\"fillmode\":\"overlay\",\"size\":10,\"solidity\":0.2}},\"type\":\"bar\"}],\"barpolar\":[{\"marker\":{\"line\":{\"color\":\"#E5ECF6\",\"width\":0.5},\"pattern\":{\"fillmode\":\"overlay\",\"size\":10,\"solidity\":0.2}},\"type\":\"barpolar\"}],\"carpet\":[{\"aaxis\":{\"endlinecolor\":\"#2a3f5f\",\"gridcolor\":\"white\",\"linecolor\":\"white\",\"minorgridcolor\":\"white\",\"startlinecolor\":\"#2a3f5f\"},\"baxis\":{\"endlinecolor\":\"#2a3f5f\",\"gridcolor\":\"white\",\"linecolor\":\"white\",\"minorgridcolor\":\"white\",\"startlinecolor\":\"#2a3f5f\"},\"type\":\"carpet\"}],\"choropleth\":[{\"colorbar\":{\"outlinewidth\":0,\"ticks\":\"\"},\"type\":\"choropleth\"}],\"contour\":[{\"colorbar\":{\"outlinewidth\":0,\"ticks\":\"\"},\"colorscale\":[[0.0,\"#0d0887\"],[0.1111111111111111,\"#46039f\"],[0.2222222222222222,\"#7201a8\"],[0.3333333333333333,\"#9c179e\"],[0.4444444444444444,\"#bd3786\"],[0.5555555555555556,\"#d8576b\"],[0.6666666666666666,\"#ed7953\"],[0.7777777777777778,\"#fb9f3a\"],[0.8888888888888888,\"#fdca26\"],[1.0,\"#f0f921\"]],\"type\":\"contour\"}],\"contourcarpet\":[{\"colorbar\":{\"outlinewidth\":0,\"ticks\":\"\"},\"type\":\"contourcarpet\"}],\"heatmap\":[{\"colorbar\":{\"outlinewidth\":0,\"ticks\":\"\"},\"colorscale\":[[0.0,\"#0d0887\"],[0.1111111111111111,\"#46039f\"],[0.2222222222222222,\"#7201a8\"],[0.3333333333333333,\"#9c179e\"],[0.4444444444444444,\"#bd3786\"],[0.5555555555555556,\"#d8576b\"],[0.6666666666666666,\"#ed7953\"],[0.7777777777777778,\"#fb9f3a\"],[0.8888888888888888,\"#fdca26\"],[1.0,\"#f0f921\"]],\"type\":\"heatmap\"}],\"heatmapgl\":[{\"colorbar\":{\"outlinewidth\":0,\"ticks\":\"\"},\"colorscale\":[[0.0,\"#0d0887\"],[0.1111111111111111,\"#46039f\"],[0.2222222222222222,\"#7201a8\"],[0.3333333333333333,\"#9c179e\"],[0.4444444444444444,\"#bd3786\"],[0.5555555555555556,\"#d8576b\"],[0.6666666666666666,\"#ed7953\"],[0.7777777777777778,\"#fb9f3a\"],[0.8888888888888888,\"#fdca26\"],[1.0,\"#f0f921\"]],\"type\":\"heatmapgl\"}],\"histogram\":[{\"marker\":{\"pattern\":{\"fillmode\":\"overlay\",\"size\":10,\"solidity\":0.2}},\"type\":\"histogram\"}],\"histogram2d\":[{\"colorbar\":{\"outlinewidth\":0,\"ticks\":\"\"},\"colorscale\":[[0.0,\"#0d0887\"],[0.1111111111111111,\"#46039f\"],[0.2222222222222222,\"#7201a8\"],[0.3333333333333333,\"#9c179e\"],[0.4444444444444444,\"#bd3786\"],[0.5555555555555556,\"#d8576b\"],[0.6666666666666666,\"#ed7953\"],[0.7777777777777778,\"#fb9f3a\"],[0.8888888888888888,\"#fdca26\"],[1.0,\"#f0f921\"]],\"type\":\"histogram2d\"}],\"histogram2dcontour\":[{\"colorbar\":{\"outlinewidth\":0,\"ticks\":\"\"},\"colorscale\":[[0.0,\"#0d0887\"],[0.1111111111111111,\"#46039f\"],[0.2222222222222222,\"#7201a8\"],[0.3333333333333333,\"#9c179e\"],[0.4444444444444444,\"#bd3786\"],[0.5555555555555556,\"#d8576b\"],[0.6666666666666666,\"#ed7953\"],[0.7777777777777778,\"#fb9f3a\"],[0.8888888888888888,\"#fdca26\"],[1.0,\"#f0f921\"]],\"type\":\"histogram2dcontour\"}],\"mesh3d\":[{\"colorbar\":{\"outlinewidth\":0,\"ticks\":\"\"},\"type\":\"mesh3d\"}],\"parcoords\":[{\"line\":{\"colorbar\":{\"outlinewidth\":0,\"ticks\":\"\"}},\"type\":\"parcoords\"}],\"pie\":[{\"automargin\":true,\"type\":\"pie\"}],\"scatter\":[{\"marker\":{\"colorbar\":{\"outlinewidth\":0,\"ticks\":\"\"}},\"type\":\"scatter\"}],\"scatter3d\":[{\"line\":{\"colorbar\":{\"outlinewidth\":0,\"ticks\":\"\"}},\"marker\":{\"colorbar\":{\"outlinewidth\":0,\"ticks\":\"\"}},\"type\":\"scatter3d\"}],\"scattercarpet\":[{\"marker\":{\"colorbar\":{\"outlinewidth\":0,\"ticks\":\"\"}},\"type\":\"scattercarpet\"}],\"scattergeo\":[{\"marker\":{\"colorbar\":{\"outlinewidth\":0,\"ticks\":\"\"}},\"type\":\"scattergeo\"}],\"scattergl\":[{\"marker\":{\"colorbar\":{\"outlinewidth\":0,\"ticks\":\"\"}},\"type\":\"scattergl\"}],\"scattermapbox\":[{\"marker\":{\"colorbar\":{\"outlinewidth\":0,\"ticks\":\"\"}},\"type\":\"scattermapbox\"}],\"scatterpolar\":[{\"marker\":{\"colorbar\":{\"outlinewidth\":0,\"ticks\":\"\"}},\"type\":\"scatterpolar\"}],\"scatterpolargl\":[{\"marker\":{\"colorbar\":{\"outlinewidth\":0,\"ticks\":\"\"}},\"type\":\"scatterpolargl\"}],\"scatterternary\":[{\"marker\":{\"colorbar\":{\"outlinewidth\":0,\"ticks\":\"\"}},\"type\":\"scatterternary\"}],\"surface\":[{\"colorbar\":{\"outlinewidth\":0,\"ticks\":\"\"},\"colorscale\":[[0.0,\"#0d0887\"],[0.1111111111111111,\"#46039f\"],[0.2222222222222222,\"#7201a8\"],[0.3333333333333333,\"#9c179e\"],[0.4444444444444444,\"#bd3786\"],[0.5555555555555556,\"#d8576b\"],[0.6666666666666666,\"#ed7953\"],[0.7777777777777778,\"#fb9f3a\"],[0.8888888888888888,\"#fdca26\"],[1.0,\"#f0f921\"]],\"type\":\"surface\"}],\"table\":[{\"cells\":{\"fill\":{\"color\":\"#EBF0F8\"},\"line\":{\"color\":\"white\"}},\"header\":{\"fill\":{\"color\":\"#C8D4E3\"},\"line\":{\"color\":\"white\"}},\"type\":\"table\"}]},\"layout\":{\"annotationdefaults\":{\"arrowcolor\":\"#2a3f5f\",\"arrowhead\":0,\"arrowwidth\":1},\"autotypenumbers\":\"strict\",\"coloraxis\":{\"colorbar\":{\"outlinewidth\":0,\"ticks\":\"\"}},\"colorscale\":{\"diverging\":[[0,\"#8e0152\"],[0.1,\"#c51b7d\"],[0.2,\"#de77ae\"],[0.3,\"#f1b6da\"],[0.4,\"#fde0ef\"],[0.5,\"#f7f7f7\"],[0.6,\"#e6f5d0\"],[0.7,\"#b8e186\"],[0.8,\"#7fbc41\"],[0.9,\"#4d9221\"],[1,\"#276419\"]],\"sequential\":[[0.0,\"#0d0887\"],[0.1111111111111111,\"#46039f\"],[0.2222222222222222,\"#7201a8\"],[0.3333333333333333,\"#9c179e\"],[0.4444444444444444,\"#bd3786\"],[0.5555555555555556,\"#d8576b\"],[0.6666666666666666,\"#ed7953\"],[0.7777777777777778,\"#fb9f3a\"],[0.8888888888888888,\"#fdca26\"],[1.0,\"#f0f921\"]],\"sequentialminus\":[[0.0,\"#0d0887\"],[0.1111111111111111,\"#46039f\"],[0.2222222222222222,\"#7201a8\"],[0.3333333333333333,\"#9c179e\"],[0.4444444444444444,\"#bd3786\"],[0.5555555555555556,\"#d8576b\"],[0.6666666666666666,\"#ed7953\"],[0.7777777777777778,\"#fb9f3a\"],[0.8888888888888888,\"#fdca26\"],[1.0,\"#f0f921\"]]},\"colorway\":[\"#636efa\",\"#EF553B\",\"#00cc96\",\"#ab63fa\",\"#FFA15A\",\"#19d3f3\",\"#FF6692\",\"#B6E880\",\"#FF97FF\",\"#FECB52\"],\"font\":{\"color\":\"#2a3f5f\"},\"geo\":{\"bgcolor\":\"white\",\"lakecolor\":\"white\",\"landcolor\":\"#E5ECF6\",\"showlakes\":true,\"showland\":true,\"subunitcolor\":\"white\"},\"hoverlabel\":{\"align\":\"left\"},\"hovermode\":\"closest\",\"mapbox\":{\"style\":\"light\"},\"paper_bgcolor\":\"white\",\"plot_bgcolor\":\"#E5ECF6\",\"polar\":{\"angularaxis\":{\"gridcolor\":\"white\",\"linecolor\":\"white\",\"ticks\":\"\"},\"bgcolor\":\"#E5ECF6\",\"radialaxis\":{\"gridcolor\":\"white\",\"linecolor\":\"white\",\"ticks\":\"\"}},\"scene\":{\"xaxis\":{\"backgroundcolor\":\"#E5ECF6\",\"gridcolor\":\"white\",\"gridwidth\":2,\"linecolor\":\"white\",\"showbackground\":true,\"ticks\":\"\",\"zerolinecolor\":\"white\"},\"yaxis\":{\"backgroundcolor\":\"#E5ECF6\",\"gridcolor\":\"white\",\"gridwidth\":2,\"linecolor\":\"white\",\"showbackground\":true,\"ticks\":\"\",\"zerolinecolor\":\"white\"},\"zaxis\":{\"backgroundcolor\":\"#E5ECF6\",\"gridcolor\":\"white\",\"gridwidth\":2,\"linecolor\":\"white\",\"showbackground\":true,\"ticks\":\"\",\"zerolinecolor\":\"white\"}},\"shapedefaults\":{\"line\":{\"color\":\"#2a3f5f\"}},\"ternary\":{\"aaxis\":{\"gridcolor\":\"white\",\"linecolor\":\"white\",\"ticks\":\"\"},\"baxis\":{\"gridcolor\":\"white\",\"linecolor\":\"white\",\"ticks\":\"\"},\"bgcolor\":\"#E5ECF6\",\"caxis\":{\"gridcolor\":\"white\",\"linecolor\":\"white\",\"ticks\":\"\"}},\"title\":{\"x\":0.05},\"xaxis\":{\"automargin\":true,\"gridcolor\":\"white\",\"linecolor\":\"white\",\"ticks\":\"\",\"title\":{\"standoff\":15},\"zerolinecolor\":\"white\",\"zerolinewidth\":2},\"yaxis\":{\"automargin\":true,\"gridcolor\":\"white\",\"linecolor\":\"white\",\"ticks\":\"\",\"title\":{\"standoff\":15},\"zerolinecolor\":\"white\",\"zerolinewidth\":2}}}},                        {\"responsive\": true}                    ).then(function(){\n",
       "                            \n",
       "var gd = document.getElementById('e7a6b319-1bf9-4b1d-981a-f322aaba79f9');\n",
       "var x = new MutationObserver(function (mutations, observer) {{\n",
       "        var display = window.getComputedStyle(gd).display;\n",
       "        if (!display || display === 'none') {{\n",
       "            console.log([gd, 'removed!']);\n",
       "            Plotly.purge(gd);\n",
       "            observer.disconnect();\n",
       "        }}\n",
       "}});\n",
       "\n",
       "// Listen for the removal of the full notebook cells\n",
       "var notebookContainer = gd.closest('#notebook-container');\n",
       "if (notebookContainer) {{\n",
       "    x.observe(notebookContainer, {childList: true});\n",
       "}}\n",
       "\n",
       "// Listen for the clearing of the current output cell\n",
       "var outputEl = gd.closest('.output');\n",
       "if (outputEl) {{\n",
       "    x.observe(outputEl, {childList: true});\n",
       "}}\n",
       "\n",
       "                        })                };                });            </script>        </div>"
      ]
     },
     "metadata": {},
     "output_type": "display_data"
    }
   ],
   "source": [
    "scatter_trace = go.Scatter(x=df['GDP per capita'], y=df['Life expectancy'], mode='markers',\n",
    "                           text=df['Country'], marker=dict(size=10, color=df['Continent'].map({'Asia': 'red',\n",
    "                                                                                               'Europe': 'blue',\n",
    "                                                                                               'Africa': 'green',\n",
    "                                                                                               'Americas': 'orange',\n",
    "                                                                                               'Oceania': 'purple'})))\n",
    "\n",
    "years = df['Year']\n",
    "\n",
    "# Create a list of dictionaries for each step\n",
    "steps = []\n",
    "for year in years:\n",
    "    step = {'method': 'update',\n",
    "            'label': year,\n",
    "            'args': [{'x': df[df['Year']==year]['GDP per capita'],\n",
    "                      'y': df[df['Year']==year]['Life expectancy'],\n",
    "                      'text': df[df['Year']==year]['Country'],\n",
    "                      'marker': {'color': df[df['Year']==year]['Continent'].map({'Asia': 'red',\n",
    "                                                                                   'Europe': 'blue',\n",
    "                                                                                   'Africa': 'green',\n",
    "                                                                                   'Americas': 'orange',\n",
    "                                                                                   'Oceania': 'purple'})}},\n",
    "                     {'showlegend': True}]\n",
    "           }\n",
    "    steps.append(step)\n",
    "\n",
    "sliders = [{'active': 0,\n",
    "            'pad': {'t': 50},\n",
    "            'steps': steps}]\n",
    "\n",
    "# Create the layout\n",
    "layout = go.Layout(title='Life Expectancy vs. GDP per Capita',\n",
    "                   xaxis=dict(title='GDP per Capita'),\n",
    "                   yaxis=dict(title='Life Expectancy'),\n",
    "                   sliders=sliders)\n",
    "\n",
    "# Create the figure\n",
    "fig = go.Figure(data=[scatter_trace], layout=layout)\n",
    "\n",
    "# Show the figure\n",
    "fig.show()"
   ]
  },
  {
   "cell_type": "code",
   "execution_count": null,
   "id": "52d2c34e-2a99-49e4-a8d0-7eb975632b13",
   "metadata": {},
   "outputs": [],
   "source": []
  }
 ],
 "metadata": {
  "kernelspec": {
   "display_name": "Python 3 (ipykernel)",
   "language": "python",
   "name": "python3"
  },
  "language_info": {
   "codemirror_mode": {
    "name": "ipython",
    "version": 3
   },
   "file_extension": ".py",
   "mimetype": "text/x-python",
   "name": "python",
   "nbconvert_exporter": "python",
   "pygments_lexer": "ipython3",
   "version": "3.9.12"
  }
 },
 "nbformat": 4,
 "nbformat_minor": 5
}
